{
 "cells": [
  {
   "attachments": {},
   "cell_type": "markdown",
   "metadata": {},
   "source": [
    "جلسه هشتم AI tools"
   ]
  },
  {
   "cell_type": "code",
   "execution_count": 3,
   "metadata": {},
   "outputs": [],
   "source": [
    "import face_recognition as fr\n",
    "import cv2\n",
    "import numpy as np"
   ]
  },
  {
   "cell_type": "code",
   "execution_count": 11,
   "metadata": {},
   "outputs": [],
   "source": [
    "image = fr.load_image_file(\"nima.jpg\")"
   ]
  },
  {
   "cell_type": "code",
   "execution_count": 12,
   "metadata": {},
   "outputs": [],
   "source": [
    "locate = fr.face_locations(image)"
   ]
  },
  {
   "cell_type": "code",
   "execution_count": 13,
   "metadata": {},
   "outputs": [
    {
     "data": {
      "text/plain": [
       "142"
      ]
     },
     "execution_count": 13,
     "metadata": {},
     "output_type": "execute_result"
    }
   ],
   "source": [
    "locate[0][0]"
   ]
  },
  {
   "cell_type": "code",
   "execution_count": 14,
   "metadata": {},
   "outputs": [],
   "source": [
    "image2 = cv2.cvtColor(image, cv2.COLOR_BGR2RGB)\n",
    "\n",
    "image2 = cv2.rectangle(image2,(locate[0][3],locate[0][0]),(locate[0][1],locate[0][2]),(255,0,0),4)\n",
    "\n",
    "cv2.imshow('image', image2)\n",
    "cv2.waitKey(0)\n",
    "cv2.destroyAllWindows()"
   ]
  },
  {
   "cell_type": "code",
   "execution_count": 15,
   "metadata": {},
   "outputs": [
    {
     "data": {
      "text/plain": [
       "(600, 600, 3)"
      ]
     },
     "execution_count": 15,
     "metadata": {},
     "output_type": "execute_result"
    }
   ],
   "source": [
    "image2.shape"
   ]
  },
  {
   "cell_type": "code",
   "execution_count": 16,
   "metadata": {},
   "outputs": [],
   "source": [
    "sabte_surat = fr.face_encodings(image)[0]"
   ]
  },
  {
   "cell_type": "code",
   "execution_count": 17,
   "metadata": {},
   "outputs": [
    {
     "data": {
      "text/plain": [
       "array([-9.52320844e-02,  1.63622513e-01,  3.27121466e-02, -2.64390148e-02,\n",
       "        1.14594847e-02, -7.44180828e-02, -5.97318560e-02, -9.71557498e-02,\n",
       "        1.67478502e-01, -4.91515063e-02,  1.97334185e-01, -1.10226609e-02,\n",
       "       -1.51289552e-01, -3.69059891e-02, -9.15876776e-03,  1.30284935e-01,\n",
       "       -7.85098374e-02, -1.48486912e-01, -1.49890050e-01, -1.30255371e-01,\n",
       "        2.98179779e-03,  1.96822789e-02,  3.89683992e-04,  9.14741457e-02,\n",
       "       -2.13043466e-01, -2.33980939e-01, -4.73501161e-02, -1.48079932e-01,\n",
       "       -3.70460078e-02, -1.08422428e-01, -2.75348313e-02,  2.07167119e-02,\n",
       "       -1.83124751e-01, -6.70983419e-02,  7.99947977e-03,  7.56524056e-02,\n",
       "       -5.14169782e-03, -6.19641989e-02,  1.97764099e-01, -6.49187528e-03,\n",
       "       -1.01540625e-01,  4.65905964e-02,  4.22482863e-02,  2.88795680e-01,\n",
       "        1.82926834e-01, -4.14802693e-02,  7.97839910e-02, -1.03145972e-01,\n",
       "        1.56580925e-01, -1.82077050e-01,  1.66400999e-01,  7.12320358e-02,\n",
       "        6.06426485e-02,  1.20378047e-01,  1.37145013e-01, -1.62376642e-01,\n",
       "        2.48423517e-02,  1.57979846e-01, -1.80134371e-01,  7.20966682e-02,\n",
       "        6.26367331e-02,  7.03577399e-02, -3.33156586e-02, -5.01170158e-02,\n",
       "        2.16418326e-01,  1.18566133e-01, -1.23392276e-01, -9.07541737e-02,\n",
       "        8.92557278e-02, -1.05265871e-01, -5.10278344e-03,  7.17289671e-02,\n",
       "       -1.06914774e-01, -1.98378205e-01, -3.24682444e-01,  1.60839260e-01,\n",
       "        4.28619802e-01,  1.88472867e-01, -2.08609685e-01,  4.12007049e-02,\n",
       "       -5.36022224e-02, -6.66338056e-02,  1.06451370e-01,  6.61595166e-03,\n",
       "       -1.04281723e-01,  1.90827549e-02, -7.26041943e-02,  8.74082297e-02,\n",
       "        2.16119796e-01,  1.01725385e-01, -1.03919663e-01,  1.91033155e-01,\n",
       "       -8.39580223e-03, -3.39140594e-02,  2.68031210e-02,  7.09631369e-02,\n",
       "       -1.39587447e-01, -1.76681373e-02, -1.28666088e-01,  9.60606337e-03,\n",
       "        1.44817457e-02, -1.53410574e-02, -5.83582819e-02,  9.35579091e-02,\n",
       "       -1.21336371e-01,  1.19612999e-01,  2.34526247e-02,  1.92393735e-03,\n",
       "       -1.07212014e-01,  1.07408047e-01, -1.69023782e-01, -5.54874092e-02,\n",
       "        1.21817328e-01, -2.29557350e-01,  1.20928466e-01,  6.88200891e-02,\n",
       "        5.77510931e-02,  1.34397566e-01,  8.38258415e-02,  5.13005182e-02,\n",
       "        2.91603878e-02,  2.57963240e-02, -1.26310244e-01, -2.37520486e-02,\n",
       "        1.23014286e-01,  5.22068515e-02,  1.32371008e-01,  9.58175808e-02])"
      ]
     },
     "execution_count": 17,
     "metadata": {},
     "output_type": "execute_result"
    }
   ],
   "source": [
    "sabte_surat"
   ]
  },
  {
   "cell_type": "code",
   "execution_count": 18,
   "metadata": {},
   "outputs": [],
   "source": [
    "imagetest = fr.load_image_file('farzan.jpg')"
   ]
  },
  {
   "cell_type": "code",
   "execution_count": 19,
   "metadata": {},
   "outputs": [],
   "source": [
    "imagetest_encode = fr.face_encodings(imagetest)[0]"
   ]
  },
  {
   "cell_type": "code",
   "execution_count": 20,
   "metadata": {},
   "outputs": [],
   "source": [
    "result = fr.compare_faces([sabte_surat], imagetest_encode)"
   ]
  },
  {
   "cell_type": "code",
   "execution_count": 25,
   "metadata": {},
   "outputs": [
    {
     "name": "stdout",
     "output_type": "stream",
     "text": [
      "[False]\n"
     ]
    }
   ],
   "source": [
    "print(result)"
   ]
  },
  {
   "attachments": {},
   "cell_type": "markdown",
   "metadata": {},
   "source": [
    "جلسه ششم پروژه عملی ماشین لرنینگ"
   ]
  },
  {
   "cell_type": "code",
   "execution_count": 7,
   "metadata": {},
   "outputs": [],
   "source": [
    "\n",
    "cap = cv2.VideoCapture(0)"
   ]
  },
  {
   "cell_type": "code",
   "execution_count": 30,
   "metadata": {},
   "outputs": [],
   "source": [
    "image_ati = fr.load_image_file(\"biden.jpg\")\n",
    "sabte_surat2 = fr.face_encodings(image_ati)[0]\n",
    "\n",
    "image_eri = fr.load_image_file(\"obama.jpg\")\n",
    "sabte_surat3 = fr.face_encodings(image_eri)[0]\n"
   ]
  },
  {
   "cell_type": "code",
   "execution_count": 33,
   "metadata": {},
   "outputs": [],
   "source": [
    "    cap = cv2.VideoCapture(0)\n",
    "\n",
    "    while True:\n",
    "\n",
    "        _,img = cap.read()\n",
    "\n",
    "\n",
    "        img2 = cv2.cvtColor(img,cv2.COLOR_BGR2RGB)\n",
    "        locate = fr.face_locations(img2)\n",
    "        \n",
    "        \n",
    "        if len(locate) > 0:\n",
    "            img = cv2.rectangle(img,(locate[0][3],locate[0][0]),(locate[0][1],locate[0][2]),(255,0,0),2)\n",
    "\n",
    "            \n",
    "            encode = fr.face_encodings(img2)\n",
    "\n",
    "            result = fr.compare_faces([sabte_surat , sabte_surat2 , sabte_surat3], encode[0])\n",
    "            \n",
    "            if result[0] == True:\n",
    "                cv2.putText(img, \"mamasi\",(locate[0][3] + 6, locate[0][0] - 6), cv2.FONT_HERSHEY_SIMPLEX, 1.0, (255,0,0),2)\n",
    "            elif result[1] == True:\n",
    "                cv2.putText(img, \"atefeh\",(locate[0][3] + 6, locate[0][0] - 6), cv2.FONT_HERSHEY_SIMPLEX, 1.0, (255,0,0),2)\n",
    "            elif result[2] == True:\n",
    "                cv2.putText(img, \"erfaneh\",(locate[0][3] + 6, locate[0][0] - 6), cv2.FONT_HERSHEY_SIMPLEX, 1.0, (255,0,0),2)\n",
    "            else:\n",
    "                cv2.putText(img, \"unknown\",(locate[0][3] + 6, locate[0][0] - 6), cv2.FONT_HERSHEY_SIMPLEX, 1.0, (255,0,0),2)\n",
    "\n",
    "\n",
    "        cv2.imshow('img',img)\n",
    "        if cv2.waitKey(1) & 0xFF == ord('q'):\n",
    "            break\n",
    "\n",
    "\n",
    "\n",
    "\n",
    "    cap.release()\n",
    "    cv2.destroyAllWindows()"
   ]
  }
 ],
 "metadata": {
  "kernelspec": {
   "display_name": "Python 3",
   "language": "python",
   "name": "python3"
  },
  "language_info": {
   "codemirror_mode": {
    "name": "ipython",
    "version": 3
   },
   "file_extension": ".py",
   "mimetype": "text/x-python",
   "name": "python",
   "nbconvert_exporter": "python",
   "pygments_lexer": "ipython3",
   "version": "3.11.3"
  },
  "orig_nbformat": 4
 },
 "nbformat": 4,
 "nbformat_minor": 2
}
